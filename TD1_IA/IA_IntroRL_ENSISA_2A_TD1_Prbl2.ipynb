{
  "cells": [
    {
      "cell_type": "markdown",
      "metadata": {
        "id": "JIuzZH7gj7Yu"
      },
      "source": [
        "\n",
        "\n",
        "> Import libraries to use\n",
        "\n"
      ]
    },
    {
      "cell_type": "code",
      "execution_count": 2,
      "metadata": {
        "id": "1n-L9pacjmBA"
      },
      "outputs": [],
      "source": [
        "import numpy as np"
      ]
    },
    {
      "cell_type": "markdown",
      "metadata": {
        "id": "i38qZPSHmDVs"
      },
      "source": [
        ">  # Introduction to numpy (Skip if you already are familiar)"
      ]
    },
    {
      "cell_type": "markdown",
      "metadata": {
        "id": "-wFkLk1kmeIn"
      },
      "source": [
        ">> Creating a 1D array"
      ]
    },
    {
      "cell_type": "code",
      "execution_count": 3,
      "metadata": {
        "colab": {
          "base_uri": "https://localhost:8080/"
        },
        "id": "E-o1XD0Qmgxk",
        "outputId": "4ff781b6-1695-4041-ae25-f62b15e5be94"
      },
      "outputs": [
        {
          "output_type": "stream",
          "name": "stdout",
          "text": [
            "[1 2 3 4]\n"
          ]
        }
      ],
      "source": [
        "a = np.array([1,2,3,4])\n",
        "print(a)"
      ]
    },
    {
      "cell_type": "markdown",
      "metadata": {
        "id": "DWh4Q90Gmh32"
      },
      "source": [
        ">> Creating a 2D array\n"
      ]
    },
    {
      "cell_type": "code",
      "execution_count": 4,
      "metadata": {
        "colab": {
          "base_uri": "https://localhost:8080/"
        },
        "id": "mOS0jF1AmjTX",
        "outputId": "f1e15b77-6c6e-48f2-8f2b-4893fdf142fb"
      },
      "outputs": [
        {
          "output_type": "stream",
          "name": "stdout",
          "text": [
            "[[1 2]\n",
            " [3 4]]\n"
          ]
        }
      ],
      "source": [
        "a = np.array([[1,2],[3,4]])\n",
        "print(a)"
      ]
    },
    {
      "cell_type": "markdown",
      "metadata": {
        "id": "4Z_7BfvcmoPA"
      },
      "source": [
        ">> Creating an array full of zeros\n"
      ]
    },
    {
      "cell_type": "code",
      "execution_count": 5,
      "metadata": {
        "colab": {
          "base_uri": "https://localhost:8080/"
        },
        "id": "KdGvmJ7gmFrF",
        "outputId": "d74914dc-791a-4286-dbb6-422ba03bfea6"
      },
      "outputs": [
        {
          "output_type": "stream",
          "name": "stdout",
          "text": [
            "[0. 0. 0. 0. 0. 0. 0. 0. 0. 0.]\n",
            "[[0. 0.]\n",
            " [0. 0.]\n",
            " [0. 0.]\n",
            " [0. 0.]\n",
            " [0. 0.]]\n"
          ]
        }
      ],
      "source": [
        "a = np.zeros(shape=(10))\n",
        "print(a)\n",
        "a = np.zeros(shape=(5,2))\n",
        "print(a)"
      ]
    },
    {
      "cell_type": "markdown",
      "metadata": {
        "id": "kV2byWmWmr9g"
      },
      "source": [
        ">> Infinity in numpy"
      ]
    },
    {
      "cell_type": "code",
      "execution_count": 6,
      "metadata": {
        "colab": {
          "base_uri": "https://localhost:8080/"
        },
        "id": "9SMPoECVmygc",
        "outputId": "b68de62c-227f-4cb4-9e7b-5e5a8e7f83e6"
      },
      "outputs": [
        {
          "output_type": "stream",
          "name": "stdout",
          "text": [
            "inf\n"
          ]
        }
      ],
      "source": [
        "print(np.inf)"
      ]
    },
    {
      "cell_type": "markdown",
      "metadata": {
        "id": "FCi8vs49mz44"
      },
      "source": [
        ">> Max and Argmax"
      ]
    },
    {
      "cell_type": "code",
      "execution_count": 7,
      "metadata": {
        "colab": {
          "base_uri": "https://localhost:8080/"
        },
        "id": "Ailb-V76nSqc",
        "outputId": "b1244308-058e-43d7-e50f-18814f9e8894"
      },
      "outputs": [
        {
          "output_type": "stream",
          "name": "stdout",
          "text": [
            "4\n",
            "2\n"
          ]
        }
      ],
      "source": [
        "a = np.array([2,1,4,3])\n",
        "print(np.max(a))\n",
        "print(np.argmax(a))"
      ]
    },
    {
      "cell_type": "markdown",
      "metadata": {
        "id": "6XpkQzTfnXMU"
      },
      "source": [
        ">> From list to Numpy"
      ]
    },
    {
      "cell_type": "code",
      "execution_count": 8,
      "metadata": {
        "colab": {
          "base_uri": "https://localhost:8080/"
        },
        "id": "3wdFdBaOncQI",
        "outputId": "27e986a2-3314-44df-9530-9139458410a7"
      },
      "outputs": [
        {
          "output_type": "stream",
          "name": "stdout",
          "text": [
            "[1, 2, 3, 4]\n",
            "[1 2 3 4]\n"
          ]
        }
      ],
      "source": [
        "l = [1,2,3,4]\n",
        "print(l)\n",
        "print(np.asarray(l))"
      ]
    },
    {
      "cell_type": "markdown",
      "metadata": {
        "id": "PgNawY2LngKt"
      },
      "source": [
        ">> Random in numpy"
      ]
    },
    {
      "cell_type": "code",
      "execution_count": 9,
      "metadata": {
        "colab": {
          "base_uri": "https://localhost:8080/"
        },
        "id": "tyopXlWsnjK1",
        "outputId": "6d4dea9f-b305-4317-a79c-58c38ecde030"
      },
      "outputs": [
        {
          "output_type": "stream",
          "name": "stdout",
          "text": [
            "[[3 3]\n",
            " [3 3]\n",
            " [1 1]\n",
            " [8 8]\n",
            " [6 6]]\n"
          ]
        }
      ],
      "source": [
        "# Array of Random integers ranging from 1 to 10 (with any size you want)\n",
        "a = np.random.randint(low=1, high=10, size=(5,2))\n",
        "print(a)\n",
        "\n",
        "# Array of random elements of a list with any size you want\n",
        "a = np.random.choice([0,1,2], size=(2,))"
      ]
    },
    {
      "cell_type": "markdown",
      "metadata": {
        "id": "abjqoNDSoAD6"
      },
      "source": [
        ">> Shapes in numpy"
      ]
    },
    {
      "cell_type": "code",
      "execution_count": 10,
      "metadata": {
        "colab": {
          "base_uri": "https://localhost:8080/"
        },
        "id": "vN2gUoZEoCbE",
        "outputId": "419a4d98-a75f-4176-e586-f648345d4bb1"
      },
      "outputs": [
        {
          "output_type": "stream",
          "name": "stdout",
          "text": [
            "(4, 2)\n",
            "[[2 2]\n",
            " [4 1]\n",
            " [1 4]\n",
            " [3 3]]\n",
            "(8, 1)\n",
            "[[2]\n",
            " [2]\n",
            " [4]\n",
            " [1]\n",
            " [1]\n",
            " [4]\n",
            " [3]\n",
            " [3]]\n"
          ]
        }
      ],
      "source": [
        "a = np.random.randint(low=1, high=5, size=(4,2))\n",
        "print(a.shape)\n",
        "print(a)\n",
        "\n",
        "# Reshape a to a vector of shape = (8,1)\n",
        "a = a.reshape((8,1))\n",
        "print(a.shape)\n",
        "print(a)"
      ]
    },
    {
      "cell_type": "markdown",
      "metadata": {
        "id": "ekYrPhAGkAfM"
      },
      "source": [
        "# Pre-defined utilities"
      ]
    },
    {
      "cell_type": "code",
      "execution_count": 11,
      "metadata": {
        "id": "3kXEezQ_jnoP"
      },
      "outputs": [],
      "source": [
        "\n",
        "int_to_char = {\n",
        "    0 : 'u',\n",
        "    1 : 'r',\n",
        "    2 : 'd',\n",
        "    3 : 'l'\n",
        "}\n",
        "\n",
        "policy_one_step_look_ahead = {\n",
        "    0 : [-1,0],\n",
        "    1 : [0,1],\n",
        "    2 : [1,0],\n",
        "    3 : [0,-1]\n",
        "}\n",
        "\n",
        "def policy_int_to_char(pi,n):\n",
        "\n",
        "    pi_char = ['']\n",
        "\n",
        "    for i in range(n):\n",
        "        for j in range(n):\n",
        "\n",
        "            if i == 0 and j == 0 or i == n-1 and j == n-1:\n",
        "\n",
        "                continue\n",
        "\n",
        "            pi_char.append(int_to_char[pi[i,j]])\n",
        "\n",
        "    pi_char.append('')\n",
        "\n",
        "    return np.asarray(pi_char).reshape(n,n)"
      ]
    },
    {
      "cell_type": "markdown",
      "metadata": {
        "id": "3zlRobQekELk"
      },
      "source": [
        "# 1- Policy evaluation"
      ]
    },
    {
      "cell_type": "code",
      "execution_count": 12,
      "metadata": {
        "id": "N7_2lpTAkHAJ"
      },
      "outputs": [],
      "source": [
        "def policy_evaluation(n, pi, v, gamma, threshold):\n",
        "    while True:\n",
        "        delta = 0\n",
        "        for i in range(n):\n",
        "            for j in range(n):\n",
        "                if (i == 0 and j == 0) or (i == n-1 and j == n-1):\n",
        "                    continue  # Skip terminal states\n",
        "\n",
        "                v_old = v[i, j]\n",
        "                action = pi[i, j]\n",
        "                ni, nj = i + policy_one_step_look_ahead[action][0], j + policy_one_step_look_ahead[action][1]\n",
        "\n",
        "                # Check if new position is within bounds\n",
        "                if 0 <= ni < n and 0 <= nj < n:\n",
        "                    v[i, j] = -1 + gamma * v[ni, nj]\n",
        "                else:\n",
        "                    v[i, j] = -1 + gamma * v[i, j]  # Stay in the current position\n",
        "\n",
        "                delta = max(delta, abs(v_old - v[i, j]))\n",
        "\n",
        "        if delta < threshold:\n",
        "            break\n",
        "\n",
        "    return v\n"
      ]
    },
    {
      "cell_type": "markdown",
      "metadata": {
        "id": "id0Re9bnkWRP"
      },
      "source": [
        "# 2- Policy improvement"
      ]
    },
    {
      "cell_type": "code",
      "execution_count": 13,
      "metadata": {
        "id": "eC8zswV7kZPF"
      },
      "outputs": [],
      "source": [
        "def policy_improvement(n, pi, v, gamma):\n",
        "    policy_stable = True\n",
        "    new_pi = np.copy(pi)\n",
        "    for i in range(n):\n",
        "        for j in range(n):\n",
        "            if (i == 0 and j == 0) or (i == n-1 and j == n-1):\n",
        "                continue\n",
        "\n",
        "            old_action = pi[i, j]\n",
        "            max_value = float('-inf')\n",
        "\n",
        "            for action in range(4):  # UP=0, RIGHT=1, DOWN=2, LEFT=3\n",
        "                ni, nj = i + policy_one_step_look_ahead[action][0], j + policy_one_step_look_ahead[action][1]\n",
        "\n",
        "                if 0 <= ni < n and 0 <= nj < n:\n",
        "                    value = -1 + gamma * v[ni, nj]\n",
        "                else:\n",
        "                    value = -1 + gamma * v[i, j]\n",
        "\n",
        "                if value > max_value:\n",
        "                    max_value = value\n",
        "                    new_pi[i, j] = action\n",
        "\n",
        "            if old_action != new_pi[i, j]:\n",
        "                policy_stable = False\n",
        "\n",
        "    return new_pi, policy_stable\n"
      ]
    },
    {
      "cell_type": "markdown",
      "metadata": {
        "id": "1rJLFmZYk0I1"
      },
      "source": [
        "# 3- Policy Initialization"
      ]
    },
    {
      "cell_type": "code",
      "execution_count": 14,
      "metadata": {
        "id": "xpuOHJeIk2K_"
      },
      "outputs": [],
      "source": [
        "def policy_initialization(n):\n",
        "    # Randomly initialize the policy for each state (excluding terminal states)\n",
        "    pi = np.random.randint(0, 4, size=(n, n))\n",
        "    pi[0, 0] = pi[n-1, n-1] = 0  # Set terminal states to any fixed value (e.g., 0)\n",
        "    return pi\n"
      ]
    },
    {
      "cell_type": "markdown",
      "metadata": {
        "id": "rfeVN5fQlBt8"
      },
      "source": [
        "# 4- Policy Iteration algorithm"
      ]
    },
    {
      "cell_type": "code",
      "execution_count": 15,
      "metadata": {
        "id": "g7hnjz0PlFD4"
      },
      "outputs": [],
      "source": [
        "def policy_iteration(n, Gamma, threshhold):\n",
        "    pi = policy_initialization(n)\n",
        "    v = np.zeros((n, n))\n",
        "\n",
        "    while True:\n",
        "        v = policy_evaluation(n, pi, v, Gamma, threshhold)  # Correct the parameter names\n",
        "        pi, pi_stable = policy_improvement(n, pi, v, Gamma)\n",
        "\n",
        "        if pi_stable:\n",
        "            break\n",
        "\n",
        "    return pi, v\n"
      ]
    },
    {
      "cell_type": "markdown",
      "metadata": {
        "id": "8FvleqV5onq9"
      },
      "source": [
        "# Main Code to Test"
      ]
    },
    {
      "cell_type": "code",
      "execution_count": 16,
      "metadata": {
        "colab": {
          "base_uri": "https://localhost:8080/",
          "height": 858
        },
        "id": "hntGpzW-jZk3",
        "outputId": "e2b2ee84-cefc-40b3-8e72-c3344e86f393"
      },
      "outputs": [
        {
          "output_type": "stream",
          "name": "stdout",
          "text": [
            "\n",
            "Gamma =  0.8\n",
            "\n",
            "[['' 'l' 'l' 'd']\n",
            " ['u' 'u' 'u' 'd']\n",
            " ['u' 'u' 'r' 'd']\n",
            " ['u' 'r' 'r' '']]\n",
            "\n",
            "\n",
            "[[ 0.   -1.   -1.8  -2.44]\n",
            " [-1.   -1.8  -2.44 -1.8 ]\n",
            " [-1.8  -2.44 -1.8  -1.  ]\n",
            " [-2.44 -1.8  -1.    0.  ]]\n",
            "\n",
            "Gamma =  0.9\n",
            "\n",
            "[['' 'l' 'l' 'd']\n",
            " ['u' 'u' 'u' 'd']\n",
            " ['u' 'u' 'r' 'd']\n",
            " ['u' 'r' 'r' '']]\n",
            "\n",
            "\n",
            "[[ 0.   -1.   -1.9  -2.71]\n",
            " [-1.   -1.9  -2.71 -1.9 ]\n",
            " [-1.9  -2.71 -1.9  -1.  ]\n",
            " [-2.71 -1.9  -1.    0.  ]]\n"
          ]
        },
        {
          "output_type": "error",
          "ename": "KeyboardInterrupt",
          "evalue": "",
          "traceback": [
            "\u001b[0;31m---------------------------------------------------------------------------\u001b[0m",
            "\u001b[0;31mKeyboardInterrupt\u001b[0m                         Traceback (most recent call last)",
            "\u001b[0;32m<ipython-input-16-5242dfcb68ef>\u001b[0m in \u001b[0;36m<cell line: 7>\u001b[0;34m()\u001b[0m\n\u001b[1;32m      7\u001b[0m \u001b[0;32mfor\u001b[0m \u001b[0m_gamma\u001b[0m \u001b[0;32min\u001b[0m \u001b[0mGamma\u001b[0m\u001b[0;34m:\u001b[0m\u001b[0;34m\u001b[0m\u001b[0;34m\u001b[0m\u001b[0m\n\u001b[1;32m      8\u001b[0m \u001b[0;34m\u001b[0m\u001b[0m\n\u001b[0;32m----> 9\u001b[0;31m     \u001b[0mpi\u001b[0m \u001b[0;34m,\u001b[0m \u001b[0mv\u001b[0m \u001b[0;34m=\u001b[0m \u001b[0mpolicy_iteration\u001b[0m\u001b[0;34m(\u001b[0m\u001b[0mn\u001b[0m\u001b[0;34m=\u001b[0m\u001b[0mn\u001b[0m\u001b[0;34m,\u001b[0m\u001b[0mGamma\u001b[0m\u001b[0;34m=\u001b[0m\u001b[0m_gamma\u001b[0m\u001b[0;34m,\u001b[0m\u001b[0mthreshhold\u001b[0m\u001b[0;34m=\u001b[0m\u001b[0mthreshhold\u001b[0m\u001b[0;34m)\u001b[0m\u001b[0;34m\u001b[0m\u001b[0;34m\u001b[0m\u001b[0m\n\u001b[0m\u001b[1;32m     10\u001b[0m \u001b[0;34m\u001b[0m\u001b[0m\n\u001b[1;32m     11\u001b[0m     \u001b[0mpi_char\u001b[0m \u001b[0;34m=\u001b[0m \u001b[0mpolicy_int_to_char\u001b[0m\u001b[0;34m(\u001b[0m\u001b[0mn\u001b[0m\u001b[0;34m=\u001b[0m\u001b[0mn\u001b[0m\u001b[0;34m,\u001b[0m\u001b[0mpi\u001b[0m\u001b[0;34m=\u001b[0m\u001b[0mpi\u001b[0m\u001b[0;34m)\u001b[0m\u001b[0;34m\u001b[0m\u001b[0;34m\u001b[0m\u001b[0m\n",
            "\u001b[0;32m<ipython-input-15-225dc695bb00>\u001b[0m in \u001b[0;36mpolicy_iteration\u001b[0;34m(n, Gamma, threshhold)\u001b[0m\n\u001b[1;32m      4\u001b[0m \u001b[0;34m\u001b[0m\u001b[0m\n\u001b[1;32m      5\u001b[0m     \u001b[0;32mwhile\u001b[0m \u001b[0;32mTrue\u001b[0m\u001b[0;34m:\u001b[0m\u001b[0;34m\u001b[0m\u001b[0;34m\u001b[0m\u001b[0m\n\u001b[0;32m----> 6\u001b[0;31m         \u001b[0mv\u001b[0m \u001b[0;34m=\u001b[0m \u001b[0mpolicy_evaluation\u001b[0m\u001b[0;34m(\u001b[0m\u001b[0mn\u001b[0m\u001b[0;34m,\u001b[0m \u001b[0mpi\u001b[0m\u001b[0;34m,\u001b[0m \u001b[0mv\u001b[0m\u001b[0;34m,\u001b[0m \u001b[0mGamma\u001b[0m\u001b[0;34m,\u001b[0m \u001b[0mthreshhold\u001b[0m\u001b[0;34m)\u001b[0m  \u001b[0;31m# Correct the parameter names\u001b[0m\u001b[0;34m\u001b[0m\u001b[0;34m\u001b[0m\u001b[0m\n\u001b[0m\u001b[1;32m      7\u001b[0m         \u001b[0mpi\u001b[0m\u001b[0;34m,\u001b[0m \u001b[0mpi_stable\u001b[0m \u001b[0;34m=\u001b[0m \u001b[0mpolicy_improvement\u001b[0m\u001b[0;34m(\u001b[0m\u001b[0mn\u001b[0m\u001b[0;34m,\u001b[0m \u001b[0mpi\u001b[0m\u001b[0;34m,\u001b[0m \u001b[0mv\u001b[0m\u001b[0;34m,\u001b[0m \u001b[0mGamma\u001b[0m\u001b[0;34m)\u001b[0m\u001b[0;34m\u001b[0m\u001b[0;34m\u001b[0m\u001b[0m\n\u001b[1;32m      8\u001b[0m \u001b[0;34m\u001b[0m\u001b[0m\n",
            "\u001b[0;32m<ipython-input-12-a068bef23d12>\u001b[0m in \u001b[0;36mpolicy_evaluation\u001b[0;34m(n, pi, v, gamma, threshold)\u001b[0m\n\u001b[1;32m     17\u001b[0m                     \u001b[0mv\u001b[0m\u001b[0;34m[\u001b[0m\u001b[0mi\u001b[0m\u001b[0;34m,\u001b[0m \u001b[0mj\u001b[0m\u001b[0;34m]\u001b[0m \u001b[0;34m=\u001b[0m \u001b[0;34m-\u001b[0m\u001b[0;36m1\u001b[0m \u001b[0;34m+\u001b[0m \u001b[0mgamma\u001b[0m \u001b[0;34m*\u001b[0m \u001b[0mv\u001b[0m\u001b[0;34m[\u001b[0m\u001b[0mi\u001b[0m\u001b[0;34m,\u001b[0m \u001b[0mj\u001b[0m\u001b[0;34m]\u001b[0m  \u001b[0;31m# Stay in the current position\u001b[0m\u001b[0;34m\u001b[0m\u001b[0;34m\u001b[0m\u001b[0m\n\u001b[1;32m     18\u001b[0m \u001b[0;34m\u001b[0m\u001b[0m\n\u001b[0;32m---> 19\u001b[0;31m                 \u001b[0mdelta\u001b[0m \u001b[0;34m=\u001b[0m \u001b[0mmax\u001b[0m\u001b[0;34m(\u001b[0m\u001b[0mdelta\u001b[0m\u001b[0;34m,\u001b[0m \u001b[0mabs\u001b[0m\u001b[0;34m(\u001b[0m\u001b[0mv_old\u001b[0m \u001b[0;34m-\u001b[0m \u001b[0mv\u001b[0m\u001b[0;34m[\u001b[0m\u001b[0mi\u001b[0m\u001b[0;34m,\u001b[0m \u001b[0mj\u001b[0m\u001b[0;34m]\u001b[0m\u001b[0;34m)\u001b[0m\u001b[0;34m)\u001b[0m\u001b[0;34m\u001b[0m\u001b[0;34m\u001b[0m\u001b[0m\n\u001b[0m\u001b[1;32m     20\u001b[0m \u001b[0;34m\u001b[0m\u001b[0m\n\u001b[1;32m     21\u001b[0m         \u001b[0;32mif\u001b[0m \u001b[0mdelta\u001b[0m \u001b[0;34m<\u001b[0m \u001b[0mthreshold\u001b[0m\u001b[0;34m:\u001b[0m\u001b[0;34m\u001b[0m\u001b[0;34m\u001b[0m\u001b[0m\n",
            "\u001b[0;31mKeyboardInterrupt\u001b[0m: "
          ]
        }
      ],
      "source": [
        "n = 4\n",
        "\n",
        "Gamma = [0.8,0.9,1]\n",
        "\n",
        "threshhold = 1e-4\n",
        "\n",
        "for _gamma in Gamma:\n",
        "\n",
        "    pi , v = policy_iteration(n=n,Gamma=_gamma,threshhold=threshhold)\n",
        "\n",
        "    pi_char = policy_int_to_char(n=n,pi=pi)\n",
        "\n",
        "    print()\n",
        "    print(\"Gamma = \",_gamma)\n",
        "\n",
        "    print()\n",
        "\n",
        "    print(pi_char)\n",
        "\n",
        "    print()\n",
        "    print()\n",
        "\n",
        "    print(v)\n"
      ]
    }
  ],
  "metadata": {
    "colab": {
      "provenance": []
    },
    "kernelspec": {
      "display_name": "Python 3",
      "name": "python3"
    },
    "language_info": {
      "name": "python"
    }
  },
  "nbformat": 4,
  "nbformat_minor": 0
}